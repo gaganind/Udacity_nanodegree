{
 "cells": [
  {
   "cell_type": "code",
   "execution_count": 6,
   "metadata": {},
   "outputs": [],
   "source": [
    "import pandas as pd\n",
    "import numpy as np\n",
    "import requests\n",
    "import json\n",
    "import os\n",
    "import tweepy"
   ]
  },
  {
   "cell_type": "markdown",
   "metadata": {},
   "source": [
    "# Step 1: Data Gathering"
   ]
  },
  {
   "cell_type": "code",
   "execution_count": 7,
   "metadata": {},
   "outputs": [],
   "source": [
    "#Twitter Authentication\n",
    "#Masking Twitter Authenticcation for security Purpose.\n",
    "\n",
    "consumer_key = ''\n",
    "consumer_secret = ''\n",
    "access_token = ''\n",
    "access_secret = ''\n",
    "\n",
    "auth = tweepy.OAuthHandler(consumer_key, consumer_secret)\n",
    "auth.set_access_token(access_token, access_secret)\n",
    "api = tweepy.API(auth,wait_on_rate_limit=True)\n"
   ]
  },
  {
   "cell_type": "code",
   "execution_count": 8,
   "metadata": {},
   "outputs": [],
   "source": [
    "#Importing DataFrame 1(twitter_archive from existing file)\n",
    "\n",
    "twitter_archive=pd.read_csv(\"twitter-archive-enhanced.csv\")\n",
    "\n",
    "#Importing DataFrame 2(image_predictions from url link)\n",
    "url='https://d17h27t6h515a5.cloudfront.net/topher/2017/August/599fd2ad_image-predictions/image-predictions.tsv'\n",
    "response=requests.get(url)\n",
    "\n",
    "pred_file_name='image_predictions.tsv'\n",
    "arch_file_name='twitter-archive-enhanced'\n",
    "\n",
    "with open (os.path.join(pred_file_name), mode='wb') as filee:\n",
    "    filee.write(response.content)\n",
    "    \n",
    "image_predictions=pd.read_csv('image_predictions.tsv', sep='\\t')"
   ]
  },
  {
   "cell_type": "code",
   "execution_count": 16,
   "metadata": {},
   "outputs": [],
   "source": [
    "# Preparing copy of Dataframes (tw_copy,im_test)\n",
    "\n",
    "tw_copy=twitter_archive.copy()\n",
    "im_test=image_predictions.copy()\n"
   ]
  },
  {
   "cell_type": "code",
   "execution_count": 17,
   "metadata": {},
   "outputs": [
    {
     "name": "stdout",
     "output_type": "stream",
     "text": [
      "2341\n",
      "15\n"
     ]
    }
   ],
   "source": [
    "#Creating 3rd Data Frame(tweetinfo) from twitter API (Containing Tweet Info like Retweet count, Favorite count)\n",
    "# Removing tweets which not found / Deleted\n",
    "\n",
    "tweetlist=[]\n",
    "notfoundlist=[]\n",
    "\n",
    "if os.path.exists('data.txt'):\n",
    "    os.remove('data.txt')\n",
    "\n",
    "for id in tw_copy.tweet_id:\n",
    "    try:\n",
    "        tweet = api.get_status(id)\n",
    "        with open('data.txt', 'a') as outfile:  \n",
    "            json.dump(tweet._json, outfile)\n",
    "        retweet=tweet._json['retweet_count']\n",
    "        favorite=tweet._json['favorite_count']\n",
    "        tweetlist.append([id,retweet,favorite])\n",
    "    except:\n",
    "        notfoundlist.append(id)\n",
    "        continue\n",
    "\n",
    "tweetinfo = pd.DataFrame(tweetlist, columns=('tweet_id', 'retweet_count', 'favorite_count'))\n",
    "\n",
    "print(tweetinfo.shape[0])    #:2344\n",
    "print(len(notfoundlist))     #:12"
   ]
  },
  {
   "cell_type": "markdown",
   "metadata": {},
   "source": [
    "# Step 2 :Access Data"
   ]
  },
  {
   "cell_type": "code",
   "execution_count": 21,
   "metadata": {},
   "outputs": [
    {
     "name": "stdout",
     "output_type": "stream",
     "text": [
      "<class 'pandas.core.frame.DataFrame'>\n",
      "RangeIndex: 2341 entries, 0 to 2340\n",
      "Data columns (total 3 columns):\n",
      "tweet_id          2341 non-null int64\n",
      "retweet_count     2341 non-null int64\n",
      "favorite_count    2341 non-null int64\n",
      "dtypes: int64(3)\n",
      "memory usage: 54.9 KB\n"
     ]
    }
   ],
   "source": [
    "tweetinfo.info()"
   ]
  },
  {
   "cell_type": "code",
   "execution_count": 22,
   "metadata": {},
   "outputs": [
    {
     "name": "stdout",
     "output_type": "stream",
     "text": [
      "<class 'pandas.core.frame.DataFrame'>\n",
      "RangeIndex: 2356 entries, 0 to 2355\n",
      "Data columns (total 17 columns):\n",
      "tweet_id                      2356 non-null int64\n",
      "in_reply_to_status_id         78 non-null float64\n",
      "in_reply_to_user_id           78 non-null float64\n",
      "timestamp                     2356 non-null object\n",
      "source                        2356 non-null object\n",
      "text                          2356 non-null object\n",
      "retweeted_status_id           181 non-null float64\n",
      "retweeted_status_user_id      181 non-null float64\n",
      "retweeted_status_timestamp    181 non-null object\n",
      "expanded_urls                 2297 non-null object\n",
      "rating_numerator              2356 non-null int64\n",
      "rating_denominator            2356 non-null int64\n",
      "name                          2356 non-null object\n",
      "doggo                         2356 non-null object\n",
      "floofer                       2356 non-null object\n",
      "pupper                        2356 non-null object\n",
      "puppo                         2356 non-null object\n",
      "dtypes: float64(4), int64(3), object(10)\n",
      "memory usage: 313.0+ KB\n"
     ]
    }
   ],
   "source": [
    "tw_copy.info()"
   ]
  },
  {
   "cell_type": "code",
   "execution_count": 23,
   "metadata": {},
   "outputs": [
    {
     "name": "stdout",
     "output_type": "stream",
     "text": [
      "<class 'pandas.core.frame.DataFrame'>\n",
      "RangeIndex: 2075 entries, 0 to 2074\n",
      "Data columns (total 14 columns):\n",
      "tweet_id      2075 non-null int64\n",
      "jpg_url       2075 non-null object\n",
      "img_num       2075 non-null int64\n",
      "p1            2075 non-null object\n",
      "p1_conf       2075 non-null float64\n",
      "p1_dog        2075 non-null bool\n",
      "p2            2075 non-null object\n",
      "p2_conf       2075 non-null float64\n",
      "p2_dog        2075 non-null bool\n",
      "p3            2075 non-null object\n",
      "p3_conf       2075 non-null float64\n",
      "p3_dog        2075 non-null bool\n",
      "breed         2075 non-null object\n",
      "breed_prob    2075 non-null float64\n",
      "dtypes: bool(3), float64(4), int64(2), object(5)\n",
      "memory usage: 184.5+ KB\n"
     ]
    }
   ],
   "source": [
    "im_test.info()"
   ]
  },
  {
   "cell_type": "code",
   "execution_count": 24,
   "metadata": {},
   "outputs": [
    {
     "data": {
      "text/html": [
       "<div>\n",
       "<style scoped>\n",
       "    .dataframe tbody tr th:only-of-type {\n",
       "        vertical-align: middle;\n",
       "    }\n",
       "\n",
       "    .dataframe tbody tr th {\n",
       "        vertical-align: top;\n",
       "    }\n",
       "\n",
       "    .dataframe thead th {\n",
       "        text-align: right;\n",
       "    }\n",
       "</style>\n",
       "<table border=\"1\" class=\"dataframe\">\n",
       "  <thead>\n",
       "    <tr style=\"text-align: right;\">\n",
       "      <th></th>\n",
       "      <th>tweet_id</th>\n",
       "      <th>retweet_count</th>\n",
       "      <th>favorite_count</th>\n",
       "    </tr>\n",
       "  </thead>\n",
       "  <tbody>\n",
       "    <tr>\n",
       "      <th>0</th>\n",
       "      <td>892420643555336193</td>\n",
       "      <td>8546</td>\n",
       "      <td>38646</td>\n",
       "    </tr>\n",
       "    <tr>\n",
       "      <th>1</th>\n",
       "      <td>892177421306343426</td>\n",
       "      <td>6285</td>\n",
       "      <td>33124</td>\n",
       "    </tr>\n",
       "    <tr>\n",
       "      <th>2</th>\n",
       "      <td>891815181378084864</td>\n",
       "      <td>4165</td>\n",
       "      <td>24932</td>\n",
       "    </tr>\n",
       "    <tr>\n",
       "      <th>3</th>\n",
       "      <td>891689557279858688</td>\n",
       "      <td>8677</td>\n",
       "      <td>42024</td>\n",
       "    </tr>\n",
       "    <tr>\n",
       "      <th>4</th>\n",
       "      <td>891327558926688256</td>\n",
       "      <td>9426</td>\n",
       "      <td>40180</td>\n",
       "    </tr>\n",
       "  </tbody>\n",
       "</table>\n",
       "</div>"
      ],
      "text/plain": [
       "             tweet_id  retweet_count  favorite_count\n",
       "0  892420643555336193           8546           38646\n",
       "1  892177421306343426           6285           33124\n",
       "2  891815181378084864           4165           24932\n",
       "3  891689557279858688           8677           42024\n",
       "4  891327558926688256           9426           40180"
      ]
     },
     "execution_count": 24,
     "metadata": {},
     "output_type": "execute_result"
    }
   ],
   "source": [
    "tweetinfo.head()"
   ]
  },
  {
   "cell_type": "code",
   "execution_count": 25,
   "metadata": {},
   "outputs": [
    {
     "data": {
      "text/html": [
       "<div>\n",
       "<style scoped>\n",
       "    .dataframe tbody tr th:only-of-type {\n",
       "        vertical-align: middle;\n",
       "    }\n",
       "\n",
       "    .dataframe tbody tr th {\n",
       "        vertical-align: top;\n",
       "    }\n",
       "\n",
       "    .dataframe thead th {\n",
       "        text-align: right;\n",
       "    }\n",
       "</style>\n",
       "<table border=\"1\" class=\"dataframe\">\n",
       "  <thead>\n",
       "    <tr style=\"text-align: right;\">\n",
       "      <th></th>\n",
       "      <th>tweet_id</th>\n",
       "      <th>in_reply_to_status_id</th>\n",
       "      <th>in_reply_to_user_id</th>\n",
       "      <th>timestamp</th>\n",
       "      <th>source</th>\n",
       "      <th>text</th>\n",
       "      <th>retweeted_status_id</th>\n",
       "      <th>retweeted_status_user_id</th>\n",
       "      <th>retweeted_status_timestamp</th>\n",
       "      <th>expanded_urls</th>\n",
       "      <th>rating_numerator</th>\n",
       "      <th>rating_denominator</th>\n",
       "      <th>name</th>\n",
       "      <th>doggo</th>\n",
       "      <th>floofer</th>\n",
       "      <th>pupper</th>\n",
       "      <th>puppo</th>\n",
       "    </tr>\n",
       "  </thead>\n",
       "  <tbody>\n",
       "    <tr>\n",
       "      <th>0</th>\n",
       "      <td>892420643555336193</td>\n",
       "      <td>NaN</td>\n",
       "      <td>NaN</td>\n",
       "      <td>2017-08-01 16:23:56 +0000</td>\n",
       "      <td>&lt;a href=\"http://twitter.com/download/iphone\" r...</td>\n",
       "      <td>This is Phineas. He's a mystical boy. Only eve...</td>\n",
       "      <td>NaN</td>\n",
       "      <td>NaN</td>\n",
       "      <td>NaN</td>\n",
       "      <td>https://twitter.com/dog_rates/status/892420643...</td>\n",
       "      <td>13</td>\n",
       "      <td>10</td>\n",
       "      <td>Phineas</td>\n",
       "      <td>None</td>\n",
       "      <td>None</td>\n",
       "      <td>None</td>\n",
       "      <td>None</td>\n",
       "    </tr>\n",
       "    <tr>\n",
       "      <th>1</th>\n",
       "      <td>892177421306343426</td>\n",
       "      <td>NaN</td>\n",
       "      <td>NaN</td>\n",
       "      <td>2017-08-01 00:17:27 +0000</td>\n",
       "      <td>&lt;a href=\"http://twitter.com/download/iphone\" r...</td>\n",
       "      <td>This is Tilly. She's just checking pup on you....</td>\n",
       "      <td>NaN</td>\n",
       "      <td>NaN</td>\n",
       "      <td>NaN</td>\n",
       "      <td>https://twitter.com/dog_rates/status/892177421...</td>\n",
       "      <td>13</td>\n",
       "      <td>10</td>\n",
       "      <td>Tilly</td>\n",
       "      <td>None</td>\n",
       "      <td>None</td>\n",
       "      <td>None</td>\n",
       "      <td>None</td>\n",
       "    </tr>\n",
       "    <tr>\n",
       "      <th>2</th>\n",
       "      <td>891815181378084864</td>\n",
       "      <td>NaN</td>\n",
       "      <td>NaN</td>\n",
       "      <td>2017-07-31 00:18:03 +0000</td>\n",
       "      <td>&lt;a href=\"http://twitter.com/download/iphone\" r...</td>\n",
       "      <td>This is Archie. He is a rare Norwegian Pouncin...</td>\n",
       "      <td>NaN</td>\n",
       "      <td>NaN</td>\n",
       "      <td>NaN</td>\n",
       "      <td>https://twitter.com/dog_rates/status/891815181...</td>\n",
       "      <td>12</td>\n",
       "      <td>10</td>\n",
       "      <td>Archie</td>\n",
       "      <td>None</td>\n",
       "      <td>None</td>\n",
       "      <td>None</td>\n",
       "      <td>None</td>\n",
       "    </tr>\n",
       "    <tr>\n",
       "      <th>3</th>\n",
       "      <td>891689557279858688</td>\n",
       "      <td>NaN</td>\n",
       "      <td>NaN</td>\n",
       "      <td>2017-07-30 15:58:51 +0000</td>\n",
       "      <td>&lt;a href=\"http://twitter.com/download/iphone\" r...</td>\n",
       "      <td>This is Darla. She commenced a snooze mid meal...</td>\n",
       "      <td>NaN</td>\n",
       "      <td>NaN</td>\n",
       "      <td>NaN</td>\n",
       "      <td>https://twitter.com/dog_rates/status/891689557...</td>\n",
       "      <td>13</td>\n",
       "      <td>10</td>\n",
       "      <td>Darla</td>\n",
       "      <td>None</td>\n",
       "      <td>None</td>\n",
       "      <td>None</td>\n",
       "      <td>None</td>\n",
       "    </tr>\n",
       "    <tr>\n",
       "      <th>4</th>\n",
       "      <td>891327558926688256</td>\n",
       "      <td>NaN</td>\n",
       "      <td>NaN</td>\n",
       "      <td>2017-07-29 16:00:24 +0000</td>\n",
       "      <td>&lt;a href=\"http://twitter.com/download/iphone\" r...</td>\n",
       "      <td>This is Franklin. He would like you to stop ca...</td>\n",
       "      <td>NaN</td>\n",
       "      <td>NaN</td>\n",
       "      <td>NaN</td>\n",
       "      <td>https://twitter.com/dog_rates/status/891327558...</td>\n",
       "      <td>12</td>\n",
       "      <td>10</td>\n",
       "      <td>Franklin</td>\n",
       "      <td>None</td>\n",
       "      <td>None</td>\n",
       "      <td>None</td>\n",
       "      <td>None</td>\n",
       "    </tr>\n",
       "  </tbody>\n",
       "</table>\n",
       "</div>"
      ],
      "text/plain": [
       "             tweet_id  in_reply_to_status_id  in_reply_to_user_id  \\\n",
       "0  892420643555336193                    NaN                  NaN   \n",
       "1  892177421306343426                    NaN                  NaN   \n",
       "2  891815181378084864                    NaN                  NaN   \n",
       "3  891689557279858688                    NaN                  NaN   \n",
       "4  891327558926688256                    NaN                  NaN   \n",
       "\n",
       "                   timestamp  \\\n",
       "0  2017-08-01 16:23:56 +0000   \n",
       "1  2017-08-01 00:17:27 +0000   \n",
       "2  2017-07-31 00:18:03 +0000   \n",
       "3  2017-07-30 15:58:51 +0000   \n",
       "4  2017-07-29 16:00:24 +0000   \n",
       "\n",
       "                                              source  \\\n",
       "0  <a href=\"http://twitter.com/download/iphone\" r...   \n",
       "1  <a href=\"http://twitter.com/download/iphone\" r...   \n",
       "2  <a href=\"http://twitter.com/download/iphone\" r...   \n",
       "3  <a href=\"http://twitter.com/download/iphone\" r...   \n",
       "4  <a href=\"http://twitter.com/download/iphone\" r...   \n",
       "\n",
       "                                                text  retweeted_status_id  \\\n",
       "0  This is Phineas. He's a mystical boy. Only eve...                  NaN   \n",
       "1  This is Tilly. She's just checking pup on you....                  NaN   \n",
       "2  This is Archie. He is a rare Norwegian Pouncin...                  NaN   \n",
       "3  This is Darla. She commenced a snooze mid meal...                  NaN   \n",
       "4  This is Franklin. He would like you to stop ca...                  NaN   \n",
       "\n",
       "   retweeted_status_user_id retweeted_status_timestamp  \\\n",
       "0                       NaN                        NaN   \n",
       "1                       NaN                        NaN   \n",
       "2                       NaN                        NaN   \n",
       "3                       NaN                        NaN   \n",
       "4                       NaN                        NaN   \n",
       "\n",
       "                                       expanded_urls  rating_numerator  \\\n",
       "0  https://twitter.com/dog_rates/status/892420643...                13   \n",
       "1  https://twitter.com/dog_rates/status/892177421...                13   \n",
       "2  https://twitter.com/dog_rates/status/891815181...                12   \n",
       "3  https://twitter.com/dog_rates/status/891689557...                13   \n",
       "4  https://twitter.com/dog_rates/status/891327558...                12   \n",
       "\n",
       "   rating_denominator      name doggo floofer pupper puppo  \n",
       "0                  10   Phineas  None    None   None  None  \n",
       "1                  10     Tilly  None    None   None  None  \n",
       "2                  10    Archie  None    None   None  None  \n",
       "3                  10     Darla  None    None   None  None  \n",
       "4                  10  Franklin  None    None   None  None  "
      ]
     },
     "execution_count": 25,
     "metadata": {},
     "output_type": "execute_result"
    }
   ],
   "source": [
    "tw_copy.head()"
   ]
  },
  {
   "cell_type": "code",
   "execution_count": 26,
   "metadata": {},
   "outputs": [
    {
     "data": {
      "text/html": [
       "<div>\n",
       "<style scoped>\n",
       "    .dataframe tbody tr th:only-of-type {\n",
       "        vertical-align: middle;\n",
       "    }\n",
       "\n",
       "    .dataframe tbody tr th {\n",
       "        vertical-align: top;\n",
       "    }\n",
       "\n",
       "    .dataframe thead th {\n",
       "        text-align: right;\n",
       "    }\n",
       "</style>\n",
       "<table border=\"1\" class=\"dataframe\">\n",
       "  <thead>\n",
       "    <tr style=\"text-align: right;\">\n",
       "      <th></th>\n",
       "      <th>tweet_id</th>\n",
       "      <th>jpg_url</th>\n",
       "      <th>img_num</th>\n",
       "      <th>p1</th>\n",
       "      <th>p1_conf</th>\n",
       "      <th>p1_dog</th>\n",
       "      <th>p2</th>\n",
       "      <th>p2_conf</th>\n",
       "      <th>p2_dog</th>\n",
       "      <th>p3</th>\n",
       "      <th>p3_conf</th>\n",
       "      <th>p3_dog</th>\n",
       "      <th>breed</th>\n",
       "      <th>breed_prob</th>\n",
       "    </tr>\n",
       "  </thead>\n",
       "  <tbody>\n",
       "    <tr>\n",
       "      <th>0</th>\n",
       "      <td>666020888022790149</td>\n",
       "      <td>https://pbs.twimg.com/media/CT4udn0WwAA0aMy.jpg</td>\n",
       "      <td>1</td>\n",
       "      <td>Welsh_springer_spaniel</td>\n",
       "      <td>0.465074</td>\n",
       "      <td>True</td>\n",
       "      <td>collie</td>\n",
       "      <td>0.156665</td>\n",
       "      <td>True</td>\n",
       "      <td>Shetland_sheepdog</td>\n",
       "      <td>0.061428</td>\n",
       "      <td>True</td>\n",
       "      <td>Welsh_springer_spaniel</td>\n",
       "      <td>0.465074</td>\n",
       "    </tr>\n",
       "    <tr>\n",
       "      <th>1</th>\n",
       "      <td>666029285002620928</td>\n",
       "      <td>https://pbs.twimg.com/media/CT42GRgUYAA5iDo.jpg</td>\n",
       "      <td>1</td>\n",
       "      <td>redbone</td>\n",
       "      <td>0.506826</td>\n",
       "      <td>True</td>\n",
       "      <td>miniature_pinscher</td>\n",
       "      <td>0.074192</td>\n",
       "      <td>True</td>\n",
       "      <td>Rhodesian_ridgeback</td>\n",
       "      <td>0.072010</td>\n",
       "      <td>True</td>\n",
       "      <td>redbone</td>\n",
       "      <td>0.506826</td>\n",
       "    </tr>\n",
       "    <tr>\n",
       "      <th>2</th>\n",
       "      <td>666033412701032449</td>\n",
       "      <td>https://pbs.twimg.com/media/CT4521TWwAEvMyu.jpg</td>\n",
       "      <td>1</td>\n",
       "      <td>German_shepherd</td>\n",
       "      <td>0.596461</td>\n",
       "      <td>True</td>\n",
       "      <td>malinois</td>\n",
       "      <td>0.138584</td>\n",
       "      <td>True</td>\n",
       "      <td>bloodhound</td>\n",
       "      <td>0.116197</td>\n",
       "      <td>True</td>\n",
       "      <td>German_shepherd</td>\n",
       "      <td>0.596461</td>\n",
       "    </tr>\n",
       "    <tr>\n",
       "      <th>3</th>\n",
       "      <td>666044226329800704</td>\n",
       "      <td>https://pbs.twimg.com/media/CT5Dr8HUEAA-lEu.jpg</td>\n",
       "      <td>1</td>\n",
       "      <td>Rhodesian_ridgeback</td>\n",
       "      <td>0.408143</td>\n",
       "      <td>True</td>\n",
       "      <td>redbone</td>\n",
       "      <td>0.360687</td>\n",
       "      <td>True</td>\n",
       "      <td>miniature_pinscher</td>\n",
       "      <td>0.222752</td>\n",
       "      <td>True</td>\n",
       "      <td>Rhodesian_ridgeback</td>\n",
       "      <td>0.408143</td>\n",
       "    </tr>\n",
       "    <tr>\n",
       "      <th>4</th>\n",
       "      <td>666049248165822465</td>\n",
       "      <td>https://pbs.twimg.com/media/CT5IQmsXIAAKY4A.jpg</td>\n",
       "      <td>1</td>\n",
       "      <td>miniature_pinscher</td>\n",
       "      <td>0.560311</td>\n",
       "      <td>True</td>\n",
       "      <td>Rottweiler</td>\n",
       "      <td>0.243682</td>\n",
       "      <td>True</td>\n",
       "      <td>Doberman</td>\n",
       "      <td>0.154629</td>\n",
       "      <td>True</td>\n",
       "      <td>miniature_pinscher</td>\n",
       "      <td>0.560311</td>\n",
       "    </tr>\n",
       "  </tbody>\n",
       "</table>\n",
       "</div>"
      ],
      "text/plain": [
       "             tweet_id                                          jpg_url  \\\n",
       "0  666020888022790149  https://pbs.twimg.com/media/CT4udn0WwAA0aMy.jpg   \n",
       "1  666029285002620928  https://pbs.twimg.com/media/CT42GRgUYAA5iDo.jpg   \n",
       "2  666033412701032449  https://pbs.twimg.com/media/CT4521TWwAEvMyu.jpg   \n",
       "3  666044226329800704  https://pbs.twimg.com/media/CT5Dr8HUEAA-lEu.jpg   \n",
       "4  666049248165822465  https://pbs.twimg.com/media/CT5IQmsXIAAKY4A.jpg   \n",
       "\n",
       "   img_num                      p1   p1_conf  p1_dog                  p2  \\\n",
       "0        1  Welsh_springer_spaniel  0.465074    True              collie   \n",
       "1        1                 redbone  0.506826    True  miniature_pinscher   \n",
       "2        1         German_shepherd  0.596461    True            malinois   \n",
       "3        1     Rhodesian_ridgeback  0.408143    True             redbone   \n",
       "4        1      miniature_pinscher  0.560311    True          Rottweiler   \n",
       "\n",
       "    p2_conf  p2_dog                   p3   p3_conf  p3_dog  \\\n",
       "0  0.156665    True    Shetland_sheepdog  0.061428    True   \n",
       "1  0.074192    True  Rhodesian_ridgeback  0.072010    True   \n",
       "2  0.138584    True           bloodhound  0.116197    True   \n",
       "3  0.360687    True   miniature_pinscher  0.222752    True   \n",
       "4  0.243682    True             Doberman  0.154629    True   \n",
       "\n",
       "                    breed  breed_prob  \n",
       "0  Welsh_springer_spaniel    0.465074  \n",
       "1                 redbone    0.506826  \n",
       "2         German_shepherd    0.596461  \n",
       "3     Rhodesian_ridgeback    0.408143  \n",
       "4      miniature_pinscher    0.560311  "
      ]
     },
     "execution_count": 26,
     "metadata": {},
     "output_type": "execute_result"
    }
   ],
   "source": [
    "im_test.head()"
   ]
  },
  {
   "cell_type": "markdown",
   "metadata": {},
   "source": [
    "# Step 3 :Clean Data# "
   ]
  },
  {
   "cell_type": "markdown",
   "metadata": {},
   "source": [
    "## Data Cleansing Process\n",
    "\n",
    "Here we will be taking care of below Issues:\n",
    "\n",
    "#### Quality Issues:\n",
    "1.5.Remove All Retweets (Since we needs only Original Tweets)\n",
    "\n",
    "2.Remove record whole url don't exist or Invalid (Tweet Deleted)\n",
    "\n",
    "3.Ignore records having Out of bound ratings like: (1776/10 , 960/0)\n",
    "\n",
    "4.Rationalize all rating Records out of 10\n",
    "\n",
    "5.Segregated URL, Keep most appropriate One\t\n",
    "\n",
    "6.Replace all Faulty Dog names to 'None'\n",
    "\n",
    "7.Changing Data Type of 'breed' to Category\n",
    "\n",
    "8.Changing type of retweet_count,favorite_count to int\n",
    "\n",
    "#### Tidiness Issues:\n",
    "\n",
    "1.Segregate Hour,Day,Date,Month,Year from DateTime column\n",
    "\n",
    "2.Multiple Dog stages into 1 'Dog Stage'\n",
    "\n",
    "3.Defining 'breed' , 'breed_probablity' columns considering p1_conf,p2_conf,p3_conf to remove excess columns"
   ]
  },
  {
   "cell_type": "markdown",
   "metadata": {},
   "source": [
    "#### Handling Quality Issues"
   ]
  },
  {
   "cell_type": "markdown",
   "metadata": {},
   "source": [
    "#### Define\n",
    "\n",
    "Consolidating probability of Individual dog to predict its Breed of Dog.\n",
    "#Defining 'breed' , 'breed_probablity' columns considering p1_conf,p2_conf,p3_conf"
   ]
  },
  {
   "cell_type": "markdown",
   "metadata": {},
   "source": [
    "#### Code"
   ]
  },
  {
   "cell_type": "code",
   "execution_count": 27,
   "metadata": {},
   "outputs": [],
   "source": [
    "for i in range(im_test.shape[0]):\n",
    "#    print(i)\n",
    "    if im_test.loc[i,'p1_dog']==True:\n",
    "        im_test.loc[i,'breed']=im_test.loc[i,'p1']    \n",
    "        im_test.loc[i,'breed_prob']=im_test.loc[i,'p1_conf'] \n",
    "    elif im_test.loc[i,'p2_dog']==True:\n",
    "        im_test.loc[i,'breed']=im_test.loc[i,'p2']    \n",
    "        im_test.loc[i,'breed_prob']=im_test.loc[i,'p2_conf']\n",
    "    elif im_test.loc[i,'p3_dog']==True:\n",
    "        im_test.loc[i,'breed']=im_test.loc[i,'p3']    \n",
    "        im_test.loc[i,'breed_prob']=im_test.loc[i,'p3_conf']\n",
    "    else:\n",
    "        im_test.loc[i,'breed']='No Dog'    \n",
    "        im_test.loc[i,'breed_prob']=0"
   ]
  },
  {
   "cell_type": "code",
   "execution_count": 28,
   "metadata": {},
   "outputs": [],
   "source": [
    "#Modifying DataFrame: im_test (Contain Only Dog's data) \n",
    "#Removing Extra Columns\n",
    "\n",
    "im_test=im_test[['tweet_id','jpg_url','img_num','breed','breed_prob']]\n",
    "#dim_final=dim_final[dim_final.breed != 'No Dog'].reset_index()"
   ]
  },
  {
   "cell_type": "markdown",
   "metadata": {},
   "source": [
    "#### Test\n",
    "\n",
    "Testing the output:"
   ]
  },
  {
   "cell_type": "code",
   "execution_count": 29,
   "metadata": {},
   "outputs": [
    {
     "name": "stdout",
     "output_type": "stream",
     "text": [
      "             tweet_id                                          jpg_url  \\\n",
      "0  666020888022790149  https://pbs.twimg.com/media/CT4udn0WwAA0aMy.jpg   \n",
      "1  666029285002620928  https://pbs.twimg.com/media/CT42GRgUYAA5iDo.jpg   \n",
      "2  666033412701032449  https://pbs.twimg.com/media/CT4521TWwAEvMyu.jpg   \n",
      "3  666044226329800704  https://pbs.twimg.com/media/CT5Dr8HUEAA-lEu.jpg   \n",
      "4  666049248165822465  https://pbs.twimg.com/media/CT5IQmsXIAAKY4A.jpg   \n",
      "\n",
      "   img_num                   breed  breed_prob  \n",
      "0        1  Welsh_springer_spaniel    0.465074  \n",
      "1        1                 redbone    0.506826  \n",
      "2        1         German_shepherd    0.596461  \n",
      "3        1     Rhodesian_ridgeback    0.408143  \n",
      "4        1      miniature_pinscher    0.560311  \n"
     ]
    }
   ],
   "source": [
    "print(im_test.head())"
   ]
  },
  {
   "cell_type": "markdown",
   "metadata": {},
   "source": [
    "#### Define\n",
    "\n",
    "\n",
    "#Taking 97.5% confidenece Interval for dog probability (cutting off 2.5 % negative tail)\n",
    "#changing Data Type of 'breed' to Category"
   ]
  },
  {
   "cell_type": "markdown",
   "metadata": {},
   "source": [
    "#### Code"
   ]
  },
  {
   "cell_type": "code",
   "execution_count": 30,
   "metadata": {},
   "outputs": [],
   "source": [
    "Lower_limit=np.percentile(im_test.breed_prob, 2.5)\n",
    "Upper_limit=np.percentile(im_test.breed_prob, 100)\n",
    "\n",
    "im_test=im_test[im_test.breed_prob>=Lower_limit]\n",
    "im_test.breed=im_test.breed.astype('category')"
   ]
  },
  {
   "cell_type": "markdown",
   "metadata": {},
   "source": [
    "#### Test"
   ]
  },
  {
   "cell_type": "code",
   "execution_count": 31,
   "metadata": {},
   "outputs": [
    {
     "name": "stdout",
     "output_type": "stream",
     "text": [
      "No Dog                         324\n",
      "golden_retriever               173\n",
      "Labrador_retriever             113\n",
      "Pembroke                        96\n",
      "Chihuahua                       95\n",
      "pug                             65\n",
      "toy_poodle                      52\n",
      "chow                            51\n",
      "Samoyed                         46\n",
      "Pomeranian                      42\n",
      "malamute                        34\n",
      "cocker_spaniel                  34\n",
      "French_bulldog                  32\n",
      "Chesapeake_Bay_retriever        31\n",
      "miniature_pinscher              26\n",
      "Cardigan                        23\n",
      "Eskimo_dog                      22\n",
      "Staffordshire_bullterrier       22\n",
      "German_shepherd                 21\n",
      "beagle                          21\n",
      "Siberian_husky                  20\n",
      "Shih-Tzu                        20\n",
      "Rottweiler                      19\n",
      "kuvasz                          19\n",
      "Lakeland_terrier                19\n",
      "Shetland_sheepdog               19\n",
      "Maltese_dog                     19\n",
      "Italian_greyhound               17\n",
      "basset                          17\n",
      "West_Highland_white_terrier     16\n",
      "                              ... \n",
      "Rhodesian_ridgeback              4\n",
      "Saluki                           4\n",
      "giant_schnauzer                  4\n",
      "Scottish_deerhound               4\n",
      "Tibetan_terrier                  4\n",
      "Weimaraner                       4\n",
      "Welsh_springer_spaniel           4\n",
      "Irish_water_spaniel              3\n",
      "toy_terrier                      3\n",
      "komondor                         3\n",
      "curly-coated_retriever           3\n",
      "Brabancon_griffon                3\n",
      "cairn                            3\n",
      "briard                           3\n",
      "Leonberg                         3\n",
      "Greater_Swiss_Mountain_dog       3\n",
      "black-and-tan_coonhound          2\n",
      "Sussex_spaniel                   2\n",
      "groenendael                      2\n",
      "Australian_terrier               2\n",
      "Appenzeller                      2\n",
      "wire-haired_fox_terrier          2\n",
      "Irish_wolfhound                  1\n",
      "clumber                          1\n",
      "EntleBucher                      1\n",
      "Bouvier_des_Flandres             1\n",
      "Scotch_terrier                   1\n",
      "Japanese_spaniel                 1\n",
      "silky_terrier                    1\n",
      "standard_schnauzer               1\n",
      "Name: breed, Length: 114, dtype: int64\n",
      "0.0 0.999956\n"
     ]
    }
   ],
   "source": [
    "print(im_test.breed.value_counts())\n",
    "print(Lower_limit,Upper_limit)"
   ]
  },
  {
   "cell_type": "markdown",
   "metadata": {},
   "source": [
    "#### Define\n",
    "\n",
    "#Merging im_test,tweetinfo into im_test\n",
    "#Changing type of retweet_count,favorite_count to int\n",
    "#Updating NaN retweet_count,favorite_count to '0' (indicating not found)"
   ]
  },
  {
   "cell_type": "markdown",
   "metadata": {},
   "source": [
    "#### Code"
   ]
  },
  {
   "cell_type": "code",
   "execution_count": 32,
   "metadata": {},
   "outputs": [],
   "source": [
    "im_test=pd.merge(im_test,tweetinfo,on=['tweet_id'],how='left')\n",
    "\n",
    "im_test.retweet_count=im_test.retweet_count.astype(str).str[:-2]\n",
    "im_test.retweet_count=im_test.retweet_count.replace('n',0)\n",
    "im_test.favorite_count=im_test.favorite_count.astype(str).str[:-2]\n",
    "im_test.favorite_count=im_test.favorite_count.replace('n',0)"
   ]
  },
  {
   "cell_type": "markdown",
   "metadata": {},
   "source": [
    "#### Test"
   ]
  },
  {
   "cell_type": "code",
   "execution_count": 33,
   "metadata": {},
   "outputs": [
    {
     "name": "stdout",
     "output_type": "stream",
     "text": [
      "             tweet_id                                          jpg_url  \\\n",
      "0  666020888022790149  https://pbs.twimg.com/media/CT4udn0WwAA0aMy.jpg   \n",
      "1  666029285002620928  https://pbs.twimg.com/media/CT42GRgUYAA5iDo.jpg   \n",
      "\n",
      "   img_num                   breed  breed_prob retweet_count favorite_count  \n",
      "0        1  Welsh_springer_spaniel    0.465074           517           2564  \n",
      "1        1                 redbone    0.506826            47            130  \n"
     ]
    }
   ],
   "source": [
    "print(im_test.head(2))"
   ]
  },
  {
   "cell_type": "markdown",
   "metadata": {},
   "source": [
    "#### Define\n",
    "\n",
    "#Remove All Retweet\n",
    "(Since we needs only Original Tweets)"
   ]
  },
  {
   "cell_type": "markdown",
   "metadata": {},
   "source": [
    "#### Code"
   ]
  },
  {
   "cell_type": "code",
   "execution_count": 34,
   "metadata": {},
   "outputs": [
    {
     "name": "stdout",
     "output_type": "stream",
     "text": [
      "2356\n"
     ]
    }
   ],
   "source": [
    "print(tw_copy.shape[0])\n",
    "tw_copy=tw_copy[tw_copy.retweeted_status_id.isnull()]"
   ]
  },
  {
   "cell_type": "markdown",
   "metadata": {},
   "source": [
    "#### Test"
   ]
  },
  {
   "cell_type": "code",
   "execution_count": 35,
   "metadata": {},
   "outputs": [
    {
     "name": "stdout",
     "output_type": "stream",
     "text": [
      "2175\n"
     ]
    }
   ],
   "source": [
    "print(tw_copy.shape[0])"
   ]
  },
  {
   "cell_type": "markdown",
   "metadata": {},
   "source": [
    "#### Define\n",
    "#Segregated URL, Keep most appropriate One"
   ]
  },
  {
   "cell_type": "markdown",
   "metadata": {},
   "source": [
    "#### Code"
   ]
  },
  {
   "cell_type": "code",
   "execution_count": 36,
   "metadata": {},
   "outputs": [],
   "source": [
    "tw_copy.expanded_urls=tw_copy.expanded_urls.fillna(\"No URL\")\n",
    "\n",
    "def urlextract(dfurl):\n",
    "    dfurl['url']=dfurl['expanded_urls'].split(',')[len(dfurl['expanded_urls'].split(','))-1]\n",
    "    return dfurl['url']\n",
    "\n",
    "tw_copy['url']=tw_copy.apply(urlextract,axis=1)"
   ]
  },
  {
   "cell_type": "markdown",
   "metadata": {},
   "source": [
    "#### Test"
   ]
  },
  {
   "cell_type": "code",
   "execution_count": 37,
   "metadata": {},
   "outputs": [
    {
     "name": "stdout",
     "output_type": "stream",
     "text": [
      "0    https://twitter.com/dog_rates/status/892420643...\n",
      "1    https://twitter.com/dog_rates/status/892177421...\n",
      "2    https://twitter.com/dog_rates/status/891815181...\n",
      "3    https://twitter.com/dog_rates/status/891689557...\n",
      "4    https://twitter.com/dog_rates/status/891327558...\n",
      "5    https://twitter.com/dog_rates/status/891087950...\n",
      "6    https://twitter.com/dog_rates/status/890971913...\n",
      "7    https://twitter.com/dog_rates/status/890729181...\n",
      "8    https://twitter.com/dog_rates/status/890609185...\n",
      "9    https://twitter.com/dog_rates/status/890240255...\n",
      "Name: url, dtype: object\n"
     ]
    }
   ],
   "source": [
    "print(tw_copy['url'].head(10))"
   ]
  },
  {
   "cell_type": "markdown",
   "metadata": {},
   "source": [
    "#### Define\n",
    "\n",
    "#Rationalize all rating Records out of 10 \n",
    "#Drop Numerator and Denominator retweeted_status_user_id,retweeted_status_timestamp columns"
   ]
  },
  {
   "cell_type": "markdown",
   "metadata": {},
   "source": [
    "#### Code"
   ]
  },
  {
   "cell_type": "code",
   "execution_count": 38,
   "metadata": {},
   "outputs": [],
   "source": [
    "tw_copy['rating']=(tw_copy['rating_numerator']/tw_copy['rating_denominator'])*10\n",
    "tw_copy=tw_copy.drop(['rating_numerator','rating_denominator','retweeted_status_user_id','retweeted_status_id','retweeted_status_timestamp'],axis=1)"
   ]
  },
  {
   "cell_type": "markdown",
   "metadata": {},
   "source": [
    "#### Test"
   ]
  },
  {
   "cell_type": "code",
   "execution_count": 39,
   "metadata": {},
   "outputs": [
    {
     "name": "stdout",
     "output_type": "stream",
     "text": [
      "             tweet_id  in_reply_to_status_id  in_reply_to_user_id  \\\n",
      "0  892420643555336193                    NaN                  NaN   \n",
      "1  892177421306343426                    NaN                  NaN   \n",
      "2  891815181378084864                    NaN                  NaN   \n",
      "3  891689557279858688                    NaN                  NaN   \n",
      "4  891327558926688256                    NaN                  NaN   \n",
      "\n",
      "                   timestamp  \\\n",
      "0  2017-08-01 16:23:56 +0000   \n",
      "1  2017-08-01 00:17:27 +0000   \n",
      "2  2017-07-31 00:18:03 +0000   \n",
      "3  2017-07-30 15:58:51 +0000   \n",
      "4  2017-07-29 16:00:24 +0000   \n",
      "\n",
      "                                              source  \\\n",
      "0  <a href=\"http://twitter.com/download/iphone\" r...   \n",
      "1  <a href=\"http://twitter.com/download/iphone\" r...   \n",
      "2  <a href=\"http://twitter.com/download/iphone\" r...   \n",
      "3  <a href=\"http://twitter.com/download/iphone\" r...   \n",
      "4  <a href=\"http://twitter.com/download/iphone\" r...   \n",
      "\n",
      "                                                text  \\\n",
      "0  This is Phineas. He's a mystical boy. Only eve...   \n",
      "1  This is Tilly. She's just checking pup on you....   \n",
      "2  This is Archie. He is a rare Norwegian Pouncin...   \n",
      "3  This is Darla. She commenced a snooze mid meal...   \n",
      "4  This is Franklin. He would like you to stop ca...   \n",
      "\n",
      "                                       expanded_urls      name doggo floofer  \\\n",
      "0  https://twitter.com/dog_rates/status/892420643...   Phineas  None    None   \n",
      "1  https://twitter.com/dog_rates/status/892177421...     Tilly  None    None   \n",
      "2  https://twitter.com/dog_rates/status/891815181...    Archie  None    None   \n",
      "3  https://twitter.com/dog_rates/status/891689557...     Darla  None    None   \n",
      "4  https://twitter.com/dog_rates/status/891327558...  Franklin  None    None   \n",
      "\n",
      "  pupper puppo                                                url  rating  \n",
      "0   None  None  https://twitter.com/dog_rates/status/892420643...    13.0  \n",
      "1   None  None  https://twitter.com/dog_rates/status/892177421...    13.0  \n",
      "2   None  None  https://twitter.com/dog_rates/status/891815181...    12.0  \n",
      "3   None  None  https://twitter.com/dog_rates/status/891689557...    13.0  \n",
      "4   None  None  https://twitter.com/dog_rates/status/891327558...    12.0  \n"
     ]
    }
   ],
   "source": [
    "print(tw_copy.head())"
   ]
  },
  {
   "cell_type": "markdown",
   "metadata": {},
   "source": [
    "#### Manual Cleaning of few Obserserved records"
   ]
  },
  {
   "cell_type": "markdown",
   "metadata": {},
   "source": [
    "#### Define\n",
    "\n",
    "#Records Cleasing as per manual observations\n",
    "#1.Rating for tweet_id:835246439529840640 should be 13/10 (Interpretted from Tweet's Text)\n",
    "#2.Rating for tweet:id:835152434251116546 should be 11/10 (Interpretted from Tweet's Image)\n",
    "#3.Rating for tweet: 786709082849828864: Valid Rating>9.75/10\n",
    "#4.Remove record with tweet_id: 810984652412424192 (Invalid interpretation of dog rating)\n",
    "#5.Remove record with tweet_id: 855862651834028034,855860136149123072,838150277551247360 (Improper Ratings ratio, No URLs, Invalid Text)"
   ]
  },
  {
   "cell_type": "code",
   "execution_count": 40,
   "metadata": {},
   "outputs": [],
   "source": [
    "\n",
    "tw_copy.tweet_id=tw_copy.tweet_id.astype(str)\n",
    "im_test.tweet_id=im_test.tweet_id.astype(str)\n",
    "\n",
    "#print(tw_copy[tw_copy.tweet_id=='835246439529840640'])\n",
    "#print(tw_copy[tw_copy.tweet_id=='835152434251116546'])\n",
    "#print(tw_copy[tw_copy.tweet_id=='855862651834028034'])\n",
    "#print(tw_copy[tw_copy.tweet_id=='838150277551247360'])\n",
    "\n",
    "\n",
    "tw_copy.loc[tw_copy.tweet_id == '835246439529840640','rating']=13\n",
    "tw_copy.loc[tw_copy.tweet_id == '835152434251116546','rating']=11\n",
    "tw_copy.loc[tw_copy.tweet_id == '786709082849828864','rating']=9.75\n",
    "tw_copy=tw_copy[~tw_copy.tweet_id.isin(['855862651834028034','855860136149123072','838150277551247360','810984652412424192'])]\n",
    "\n"
   ]
  },
  {
   "cell_type": "markdown",
   "metadata": {},
   "source": [
    "#### Test"
   ]
  },
  {
   "cell_type": "code",
   "execution_count": 42,
   "metadata": {},
   "outputs": [
    {
     "name": "stdout",
     "output_type": "stream",
     "text": [
      "               tweet_id  in_reply_to_status_id  in_reply_to_user_id  \\\n",
      "313  835246439529840640           8.352460e+17           26259576.0   \n",
      "\n",
      "                     timestamp  \\\n",
      "313  2017-02-24 21:54:03 +0000   \n",
      "\n",
      "                                                source  \\\n",
      "313  <a href=\"http://twitter.com/download/iphone\" r...   \n",
      "\n",
      "                                                  text expanded_urls  name  \\\n",
      "313  @jonnysun @Lin_Manuel ok jomny I know you're e...        No URL  None   \n",
      "\n",
      "    doggo floofer pupper puppo     url  rating  \n",
      "313  None    None   None  None  No URL    13.0  \n",
      "               tweet_id  in_reply_to_status_id  in_reply_to_user_id  \\\n",
      "315  835152434251116546                    NaN                  NaN   \n",
      "\n",
      "                     timestamp  \\\n",
      "315  2017-02-24 15:40:31 +0000   \n",
      "\n",
      "                                                source  \\\n",
      "315  <a href=\"http://twitter.com/download/iphone\" r...   \n",
      "\n",
      "                                                  text  \\\n",
      "315  When you're so blinded by your systematic plag...   \n",
      "\n",
      "                                         expanded_urls  name doggo floofer  \\\n",
      "315  https://twitter.com/dog_rates/status/835152434...  None  None    None   \n",
      "\n",
      "    pupper puppo                                                url  rating  \n",
      "315   None  None  https://twitter.com/dog_rates/status/835152434...    11.0  \n",
      "Empty DataFrame\n",
      "Columns: [tweet_id, in_reply_to_status_id, in_reply_to_user_id, timestamp, source, text, expanded_urls, name, doggo, floofer, pupper, puppo, url, rating]\n",
      "Index: []\n",
      "Empty DataFrame\n",
      "Columns: [tweet_id, in_reply_to_status_id, in_reply_to_user_id, timestamp, source, text, expanded_urls, name, doggo, floofer, pupper, puppo, url, rating]\n",
      "Index: []\n"
     ]
    }
   ],
   "source": [
    "print(tw_copy[tw_copy.tweet_id=='835246439529840640'])\n",
    "print(tw_copy[tw_copy.tweet_id=='835152434251116546'])\n",
    "print(tw_copy[tw_copy.tweet_id=='855862651834028034'])\n",
    "print(tw_copy[tw_copy.tweet_id=='838150277551247360'])"
   ]
  },
  {
   "cell_type": "markdown",
   "metadata": {},
   "source": [
    "#### Define\n",
    "#Replace all Faulty Dog names to 'None'\n",
    "\n",
    "Invalid names Includes ('a','all','an','by','his','not','O','officially','old','one','quite','such','the','this','unacceptable')"
   ]
  },
  {
   "cell_type": "markdown",
   "metadata": {},
   "source": [
    "#### Code"
   ]
  },
  {
   "cell_type": "code",
   "execution_count": 43,
   "metadata": {},
   "outputs": [],
   "source": [
    "invalid_names=['a','all','an','by','his','not','O','officially','old','one','quite','such','the','this','unacceptable']\n",
    "\n",
    "for invalid in invalid_names:\n",
    "    tw_copy.loc[tw_copy.name == invalid,'name']='None'    "
   ]
  },
  {
   "cell_type": "markdown",
   "metadata": {},
   "source": [
    "#### Test"
   ]
  },
  {
   "cell_type": "code",
   "execution_count": 44,
   "metadata": {},
   "outputs": [
    {
     "name": "stdout",
     "output_type": "stream",
     "text": [
      "None          764\n",
      "Lucy           11\n",
      "Charlie        11\n",
      "Cooper         10\n",
      "Oliver         10\n",
      "Tucker          9\n",
      "Penny           9\n",
      "Lola            8\n",
      "Sadie           8\n",
      "Winston         8\n",
      "Toby            7\n",
      "Daisy           7\n",
      "Bo              6\n",
      "Bailey          6\n",
      "Stanley         6\n",
      "Bella           6\n",
      "Oscar           6\n",
      "Koda            6\n",
      "Jax             6\n",
      "Buddy           5\n",
      "Milo            5\n",
      "Rusty           5\n",
      "Bentley         5\n",
      "Leo             5\n",
      "Louis           5\n",
      "Chester         5\n",
      "Scout           5\n",
      "Dave            5\n",
      "Sophie          4\n",
      "Bear            4\n",
      "             ... \n",
      "Skittle         1\n",
      "Kendall         1\n",
      "Obi             1\n",
      "Linus           1\n",
      "Dutch           1\n",
      "Laela           1\n",
      "Ralphus         1\n",
      "Grizz           1\n",
      "Augie           1\n",
      "Dale            1\n",
      "Cermet          1\n",
      "Butter          1\n",
      "Lassie          1\n",
      "Bobb            1\n",
      "Eve             1\n",
      "Aldrick         1\n",
      "Christoper      1\n",
      "Shnuggles       1\n",
      "Snicku          1\n",
      "Tuck            1\n",
      "Mojo            1\n",
      "Marlee          1\n",
      "Durg            1\n",
      "Edd             1\n",
      "Burt            1\n",
      "Lucky           1\n",
      "Bungalo         1\n",
      "Blipson         1\n",
      "Raphael         1\n",
      "Colin           1\n",
      "Name: name, Length: 941, dtype: int64\n"
     ]
    }
   ],
   "source": [
    "print(tw_copy.name.value_counts())"
   ]
  },
  {
   "cell_type": "markdown",
   "metadata": {},
   "source": [
    "#### Define\n",
    "#Date Time Column Type conversion to DataTime"
   ]
  },
  {
   "cell_type": "markdown",
   "metadata": {},
   "source": [
    "#### Code"
   ]
  },
  {
   "cell_type": "code",
   "execution_count": 45,
   "metadata": {},
   "outputs": [],
   "source": [
    "tw_copy.timestamp = pd.to_datetime(tw_copy.timestamp)"
   ]
  },
  {
   "cell_type": "markdown",
   "metadata": {},
   "source": [
    "#### Test"
   ]
  },
  {
   "cell_type": "code",
   "execution_count": 46,
   "metadata": {},
   "outputs": [
    {
     "name": "stdout",
     "output_type": "stream",
     "text": [
      "<class 'pandas.core.series.Series'>\n"
     ]
    }
   ],
   "source": [
    "print(type(tw_copy.timestamp))"
   ]
  },
  {
   "cell_type": "markdown",
   "metadata": {},
   "source": [
    "#### Define\n",
    "#Extracting Hour,Day,Date,Month,Year from DateTime column,\n",
    "This would be helpful in doing analysis time based."
   ]
  },
  {
   "cell_type": "markdown",
   "metadata": {},
   "source": [
    "#### Code"
   ]
  },
  {
   "cell_type": "code",
   "execution_count": 47,
   "metadata": {},
   "outputs": [],
   "source": [
    "tw_copy['hour']=tw_copy['timestamp'].dt.hour.astype(int)\n",
    "tw_copy['weekday']=tw_copy['timestamp'].dt.dayofweek.astype(int)\n",
    "tw_copy['date']=tw_copy['timestamp'].dt.day.astype(int)\n",
    "tw_copy['month']=tw_copy['timestamp'].dt.month.astype(int)\n",
    "tw_copy['year']=tw_copy['timestamp'].dt.year.astype(int)"
   ]
  },
  {
   "cell_type": "markdown",
   "metadata": {},
   "source": [
    "#### Test"
   ]
  },
  {
   "cell_type": "code",
   "execution_count": 48,
   "metadata": {},
   "outputs": [
    {
     "name": "stdout",
     "output_type": "stream",
     "text": [
      "             tweet_id  in_reply_to_status_id  in_reply_to_user_id  \\\n",
      "0  892420643555336193                    NaN                  NaN   \n",
      "1  892177421306343426                    NaN                  NaN   \n",
      "\n",
      "            timestamp                                             source  \\\n",
      "0 2017-08-01 16:23:56  <a href=\"http://twitter.com/download/iphone\" r...   \n",
      "1 2017-08-01 00:17:27  <a href=\"http://twitter.com/download/iphone\" r...   \n",
      "\n",
      "                                                text  \\\n",
      "0  This is Phineas. He's a mystical boy. Only eve...   \n",
      "1  This is Tilly. She's just checking pup on you....   \n",
      "\n",
      "                                       expanded_urls     name doggo floofer  \\\n",
      "0  https://twitter.com/dog_rates/status/892420643...  Phineas  None    None   \n",
      "1  https://twitter.com/dog_rates/status/892177421...    Tilly  None    None   \n",
      "\n",
      "  pupper puppo                                                url  rating  \\\n",
      "0   None  None  https://twitter.com/dog_rates/status/892420643...    13.0   \n",
      "1   None  None  https://twitter.com/dog_rates/status/892177421...    13.0   \n",
      "\n",
      "   hour  weekday  date  month  year  \n",
      "0    16        1     1      8  2017  \n",
      "1     0        1     1      8  2017  \n"
     ]
    }
   ],
   "source": [
    "print(tw_copy.head(2))"
   ]
  },
  {
   "cell_type": "markdown",
   "metadata": {},
   "source": [
    "#### Define\n",
    "#Multiple Dog stages into 1 'Dog Stages'.This would Save table space and Table would look simple.\n",
    "Defining multiple Stage with comma\",\" seperator. \n",
    "Like : doggo,floofer"
   ]
  },
  {
   "cell_type": "markdown",
   "metadata": {},
   "source": [
    "#### Code"
   ]
  },
  {
   "cell_type": "code",
   "execution_count": 49,
   "metadata": {},
   "outputs": [],
   "source": [
    "\n",
    "tw_copy['dog_stage'] = 'None'\n",
    "\n",
    "def dogstagecon(dog):\n",
    "    stage=[]\n",
    "    if dog.doggo=='doggo':\n",
    "        stage.append('doggo')\n",
    "    if dog.floofer=='floofer':\n",
    "        stage.append('floofer')\n",
    "    if dog.pupper=='pupper':\n",
    "        stage.append('pupper')\n",
    "    if dog.puppo=='puppo':\n",
    "        stage.append('puppo')\n",
    "    if len(stage)<1:\n",
    "        stage.append('None')\n",
    "    dog['dog_stage']=','.join(stage)\n",
    "    return dog\n",
    "            \n",
    "tw_copy=tw_copy.apply(dogstagecon,axis=1)\n",
    "\n",
    "tw_copy=tw_copy.drop(['doggo','floofer','pupper','puppo'],axis=1)\n"
   ]
  },
  {
   "cell_type": "markdown",
   "metadata": {},
   "source": [
    "#### Test"
   ]
  },
  {
   "cell_type": "code",
   "execution_count": 50,
   "metadata": {},
   "outputs": [
    {
     "name": "stdout",
     "output_type": "stream",
     "text": [
      "None             1827\n",
      "pupper            224\n",
      "doggo              75\n",
      "puppo              24\n",
      "doggo,pupper       10\n",
      "floofer             9\n",
      "doggo,floofer       1\n",
      "doggo,puppo         1\n",
      "Name: dog_stage, dtype: int64\n"
     ]
    }
   ],
   "source": [
    "print(tw_copy.dog_stage.value_counts())"
   ]
  },
  {
   "cell_type": "markdown",
   "metadata": {},
   "source": [
    "#### Define\n",
    "#Drop all column which are not needed\n",
    "Columns like: timestamp','in_reply_to_status_id','in_reply_to_user_id not needed any more, Hence Dropping it.\n",
    "#Count number of Replied Tweets"
   ]
  },
  {
   "cell_type": "markdown",
   "metadata": {},
   "source": [
    "#### Code"
   ]
  },
  {
   "cell_type": "code",
   "execution_count": 51,
   "metadata": {},
   "outputs": [],
   "source": [
    "replied_tweet_count=tw_copy.in_reply_to_status_id.shape[0]-sum(tw_copy.in_reply_to_status_id.isnull())\n",
    "tw_copy=tw_copy.drop(['timestamp','in_reply_to_status_id','in_reply_to_user_id'],axis=1)"
   ]
  },
  {
   "cell_type": "markdown",
   "metadata": {},
   "source": [
    "#### Test"
   ]
  },
  {
   "cell_type": "code",
   "execution_count": 52,
   "metadata": {
    "scrolled": true
   },
   "outputs": [
    {
     "name": "stdout",
     "output_type": "stream",
     "text": [
      "75\n",
      "              tweet_id                                             source  \\\n",
      "0   892420643555336193  <a href=\"http://twitter.com/download/iphone\" r...   \n",
      "1   892177421306343426  <a href=\"http://twitter.com/download/iphone\" r...   \n",
      "2   891815181378084864  <a href=\"http://twitter.com/download/iphone\" r...   \n",
      "3   891689557279858688  <a href=\"http://twitter.com/download/iphone\" r...   \n",
      "4   891327558926688256  <a href=\"http://twitter.com/download/iphone\" r...   \n",
      "5   891087950875897856  <a href=\"http://twitter.com/download/iphone\" r...   \n",
      "6   890971913173991426  <a href=\"http://twitter.com/download/iphone\" r...   \n",
      "7   890729181411237888  <a href=\"http://twitter.com/download/iphone\" r...   \n",
      "8   890609185150312448  <a href=\"http://twitter.com/download/iphone\" r...   \n",
      "9   890240255349198849  <a href=\"http://twitter.com/download/iphone\" r...   \n",
      "10  890006608113172480  <a href=\"http://twitter.com/download/iphone\" r...   \n",
      "11  889880896479866881  <a href=\"http://twitter.com/download/iphone\" r...   \n",
      "12  889665388333682689  <a href=\"http://twitter.com/download/iphone\" r...   \n",
      "13  889638837579907072  <a href=\"http://twitter.com/download/iphone\" r...   \n",
      "14  889531135344209921  <a href=\"http://twitter.com/download/iphone\" r...   \n",
      "15  889278841981685760  <a href=\"http://twitter.com/download/iphone\" r...   \n",
      "16  888917238123831296  <a href=\"http://twitter.com/download/iphone\" r...   \n",
      "17  888804989199671297  <a href=\"http://twitter.com/download/iphone\" r...   \n",
      "18  888554962724278272  <a href=\"http://twitter.com/download/iphone\" r...   \n",
      "20  888078434458587136  <a href=\"http://twitter.com/download/iphone\" r...   \n",
      "21  887705289381826560  <a href=\"http://twitter.com/download/iphone\" r...   \n",
      "22  887517139158093824  <a href=\"http://twitter.com/download/iphone\" r...   \n",
      "23  887473957103951883  <a href=\"http://twitter.com/download/iphone\" r...   \n",
      "24  887343217045368832  <a href=\"http://twitter.com/download/iphone\" r...   \n",
      "25  887101392804085760  <a href=\"http://twitter.com/download/iphone\" r...   \n",
      "26  886983233522544640  <a href=\"http://twitter.com/download/iphone\" r...   \n",
      "27  886736880519319552  <a href=\"http://twitter.com/download/iphone\" r...   \n",
      "28  886680336477933568  <a href=\"http://twitter.com/download/iphone\" r...   \n",
      "29  886366144734445568  <a href=\"http://twitter.com/download/iphone\" r...   \n",
      "30  886267009285017600  <a href=\"http://twitter.com/download/iphone\" r...   \n",
      "31  886258384151887873  <a href=\"http://twitter.com/download/iphone\" r...   \n",
      "33  885984800019947520  <a href=\"http://twitter.com/download/iphone\" r...   \n",
      "\n",
      "                                                 text  \\\n",
      "0   This is Phineas. He's a mystical boy. Only eve...   \n",
      "1   This is Tilly. She's just checking pup on you....   \n",
      "2   This is Archie. He is a rare Norwegian Pouncin...   \n",
      "3   This is Darla. She commenced a snooze mid meal...   \n",
      "4   This is Franklin. He would like you to stop ca...   \n",
      "5   Here we have a majestic great white breaching ...   \n",
      "6   Meet Jax. He enjoys ice cream so much he gets ...   \n",
      "7   When you watch your owner call another dog a g...   \n",
      "8   This is Zoey. She doesn't want to be one of th...   \n",
      "9   This is Cassie. She is a college pup. Studying...   \n",
      "10  This is Koda. He is a South Australian decksha...   \n",
      "11  This is Bruno. He is a service shark. Only get...   \n",
      "12  Here's a puppo that seems to be on the fence a...   \n",
      "13  This is Ted. He does his best. Sometimes that'...   \n",
      "14  This is Stuart. He's sporting his favorite fan...   \n",
      "15  This is Oliver. You're witnessing one of his m...   \n",
      "16  This is Jim. He found a fren. Taught him how t...   \n",
      "17  This is Zeke. He has a new stick. Very proud o...   \n",
      "18  This is Ralphus. He's powering up. Attempting ...   \n",
      "20  This is Gerald. He was just told he didn't get...   \n",
      "21  This is Jeffrey. He has a monopoly on the pool...   \n",
      "22  I've yet to rate a Venezuelan Hover Wiener. Th...   \n",
      "23  This is Canela. She attempted some fancy porch...   \n",
      "24  You may not have known you needed to see this ...   \n",
      "25  This... is a Jubilant Antarctic House Bear. We...   \n",
      "26  This is Maya. She's very shy. Rarely leaves he...   \n",
      "27  This is Mingus. He's a wonderful father to his...   \n",
      "28  This is Derek. He's late for a dog meeting. 13...   \n",
      "29  This is Roscoe. Another pupper fallen victim t...   \n",
      "30  @NonWhiteHat @MayhewMayhem omg hello tanner yo...   \n",
      "31  This is Waffles. His doggles are pupside down....   \n",
      "33  Viewer discretion advised. This is Jimbo. He w...   \n",
      "\n",
      "                                        expanded_urls      name  \\\n",
      "0   https://twitter.com/dog_rates/status/892420643...   Phineas   \n",
      "1   https://twitter.com/dog_rates/status/892177421...     Tilly   \n",
      "2   https://twitter.com/dog_rates/status/891815181...    Archie   \n",
      "3   https://twitter.com/dog_rates/status/891689557...     Darla   \n",
      "4   https://twitter.com/dog_rates/status/891327558...  Franklin   \n",
      "5   https://twitter.com/dog_rates/status/891087950...      None   \n",
      "6   https://gofundme.com/ydvmve-surgery-for-jax,ht...       Jax   \n",
      "7   https://twitter.com/dog_rates/status/890729181...      None   \n",
      "8   https://twitter.com/dog_rates/status/890609185...      Zoey   \n",
      "9   https://twitter.com/dog_rates/status/890240255...    Cassie   \n",
      "10  https://twitter.com/dog_rates/status/890006608...      Koda   \n",
      "11  https://twitter.com/dog_rates/status/889880896...     Bruno   \n",
      "12  https://twitter.com/dog_rates/status/889665388...      None   \n",
      "13  https://twitter.com/dog_rates/status/889638837...       Ted   \n",
      "14  https://twitter.com/dog_rates/status/889531135...    Stuart   \n",
      "15  https://twitter.com/dog_rates/status/889278841...    Oliver   \n",
      "16  https://twitter.com/dog_rates/status/888917238...       Jim   \n",
      "17  https://twitter.com/dog_rates/status/888804989...      Zeke   \n",
      "18  https://twitter.com/dog_rates/status/888554962...   Ralphus   \n",
      "20  https://twitter.com/dog_rates/status/888078434...    Gerald   \n",
      "21  https://twitter.com/dog_rates/status/887705289...   Jeffrey   \n",
      "22  https://twitter.com/dog_rates/status/887517139...      None   \n",
      "23  https://twitter.com/dog_rates/status/887473957...    Canela   \n",
      "24  https://twitter.com/dog_rates/status/887343217...      None   \n",
      "25  https://twitter.com/dog_rates/status/887101392...      None   \n",
      "26  https://twitter.com/dog_rates/status/886983233...      Maya   \n",
      "27  https://www.gofundme.com/mingusneedsus,https:/...    Mingus   \n",
      "28  https://twitter.com/dog_rates/status/886680336...     Derek   \n",
      "29  https://twitter.com/dog_rates/status/886366144...    Roscoe   \n",
      "30                                             No URL      None   \n",
      "31  https://twitter.com/dog_rates/status/886258384...   Waffles   \n",
      "33  https://twitter.com/dog_rates/status/885984800...     Jimbo   \n",
      "\n",
      "                                                  url  rating  hour  weekday  \\\n",
      "0   https://twitter.com/dog_rates/status/892420643...    13.0    16        1   \n",
      "1   https://twitter.com/dog_rates/status/892177421...    13.0     0        1   \n",
      "2   https://twitter.com/dog_rates/status/891815181...    12.0     0        0   \n",
      "3   https://twitter.com/dog_rates/status/891689557...    13.0    15        6   \n",
      "4   https://twitter.com/dog_rates/status/891327558...    12.0    16        5   \n",
      "5   https://twitter.com/dog_rates/status/891087950...    13.0     0        5   \n",
      "6   https://twitter.com/dog_rates/status/890971913...    13.0    16        4   \n",
      "7   https://twitter.com/dog_rates/status/890729181...    13.0     0        4   \n",
      "8   https://twitter.com/dog_rates/status/890609185...    13.0    16        3   \n",
      "9   https://twitter.com/dog_rates/status/890240255...    14.0    15        2   \n",
      "10  https://twitter.com/dog_rates/status/890006608...    13.0     0        2   \n",
      "11  https://twitter.com/dog_rates/status/889880896...    13.0    16        1   \n",
      "12  https://twitter.com/dog_rates/status/889665388...    13.0     1        1   \n",
      "13  https://twitter.com/dog_rates/status/889638837...    12.0     0        1   \n",
      "14  https://twitter.com/dog_rates/status/889531135...    13.0    17        0   \n",
      "15  https://twitter.com/dog_rates/status/889278841...    13.0     0        0   \n",
      "16  https://twitter.com/dog_rates/status/888917238...    12.0     0        6   \n",
      "17  https://twitter.com/dog_rates/status/888804989...    13.0    16        5   \n",
      "18  https://twitter.com/dog_rates/status/888554962...    13.0     0        5   \n",
      "20  https://twitter.com/dog_rates/status/888078434...    12.0    16        3   \n",
      "21  https://twitter.com/dog_rates/status/887705289...    13.0    16        2   \n",
      "22  https://twitter.com/dog_rates/status/887517139...    14.0     3        2   \n",
      "23  https://twitter.com/dog_rates/status/887473957...    13.0     0        2   \n",
      "24  https://twitter.com/dog_rates/status/887343217...    13.0    16        1   \n",
      "25  https://twitter.com/dog_rates/status/887101392...    12.0     0        1   \n",
      "26  https://twitter.com/dog_rates/status/886983233...    13.0    16        0   \n",
      "27  https://twitter.com/dog_rates/status/886736880...    13.0    23        6   \n",
      "28  https://twitter.com/dog_rates/status/886680336...    13.0    20        6   \n",
      "29  https://twitter.com/dog_rates/status/886366144...    12.0    23        5   \n",
      "30                                             No URL    12.0    16        5   \n",
      "31  https://twitter.com/dog_rates/status/886258384...    13.0    16        5   \n",
      "33  https://twitter.com/dog_rates/status/885984800...    12.0    22        4   \n",
      "\n",
      "    date  month  year dog_stage  \n",
      "0      1      8  2017      None  \n",
      "1      1      8  2017      None  \n",
      "2     31      7  2017      None  \n",
      "3     30      7  2017      None  \n",
      "4     29      7  2017      None  \n",
      "5     29      7  2017      None  \n",
      "6     28      7  2017      None  \n",
      "7     28      7  2017      None  \n",
      "8     27      7  2017      None  \n",
      "9     26      7  2017     doggo  \n",
      "10    26      7  2017      None  \n",
      "11    25      7  2017      None  \n",
      "12    25      7  2017     puppo  \n",
      "13    25      7  2017      None  \n",
      "14    24      7  2017     puppo  \n",
      "15    24      7  2017      None  \n",
      "16    23      7  2017      None  \n",
      "17    22      7  2017      None  \n",
      "18    22      7  2017      None  \n",
      "20    20      7  2017      None  \n",
      "21    19      7  2017      None  \n",
      "22    19      7  2017      None  \n",
      "23    19      7  2017      None  \n",
      "24    18      7  2017      None  \n",
      "25    18      7  2017      None  \n",
      "26    17      7  2017      None  \n",
      "27    16      7  2017      None  \n",
      "28    16      7  2017      None  \n",
      "29    15      7  2017    pupper  \n",
      "30    15      7  2017      None  \n",
      "31    15      7  2017      None  \n",
      "33    14      7  2017      None  \n"
     ]
    }
   ],
   "source": [
    "print(replied_tweet_count)\n",
    "print(tw_copy.head(32))"
   ]
  },
  {
   "cell_type": "markdown",
   "metadata": {},
   "source": [
    "#### Define\n",
    "#Merging im_test,tw_copy as : clean_df (Dimention Table)\n",
    "#Replacing Source as Appropriate Source and changing type to categorical variable\n",
    "As we found oout that Source Either code be one of below Only\n",
    "* Twitter for iPhone\n",
    "* Twitter Web Client\n",
    "* TweetDeck"
   ]
  },
  {
   "cell_type": "markdown",
   "metadata": {},
   "source": [
    "#### Code"
   ]
  },
  {
   "cell_type": "code",
   "execution_count": 53,
   "metadata": {},
   "outputs": [],
   "source": [
    "clean_df=pd.DataFrame()\n",
    "clean_df=pd.merge(im_test,tw_copy,on=['tweet_id'],how='left')\n",
    "clean_df=clean_df.drop(['jpg_url','img_num','url','expanded_urls','text'],axis=1)\n",
    "clean_df.source=clean_df.source.astype('category')\n",
    "clean_df.source=clean_df.source.replace(['<a href=\"http://twitter.com/download/iphone\" rel=\"nofollow\">Twitter for iPhone</a>','<a href=\"http://twitter.com\" rel=\"nofollow\">Twitter Web Client</a>','<a href=\"https://about.twitter.com/products/tweetdeck\" rel=\"nofollow\">TweetDeck</a>'],['Twitter for iPhone','Twitter Web Client','TweetDeck'])\n",
    "\n",
    "clean_df=clean_df[~clean_df.source.isnull()]"
   ]
  },
  {
   "cell_type": "markdown",
   "metadata": {},
   "source": [
    "#### Test"
   ]
  },
  {
   "cell_type": "code",
   "execution_count": 54,
   "metadata": {},
   "outputs": [
    {
     "name": "stdout",
     "output_type": "stream",
     "text": [
      "<class 'pandas.core.frame.DataFrame'>\n",
      "Int64Index: 1993 entries, 0 to 2074\n",
      "Data columns (total 14 columns):\n",
      "tweet_id          1993 non-null object\n",
      "breed             1993 non-null category\n",
      "breed_prob        1993 non-null float64\n",
      "retweet_count     1993 non-null object\n",
      "favorite_count    1993 non-null object\n",
      "source            1993 non-null object\n",
      "name              1993 non-null object\n",
      "rating            1993 non-null float64\n",
      "hour              1993 non-null float64\n",
      "weekday           1993 non-null float64\n",
      "date              1993 non-null float64\n",
      "month             1993 non-null float64\n",
      "year              1993 non-null float64\n",
      "dog_stage         1993 non-null object\n",
      "dtypes: category(1), float64(7), object(6)\n",
      "memory usage: 225.8+ KB\n",
      "None\n"
     ]
    }
   ],
   "source": [
    "print(clean_df.info())"
   ]
  },
  {
   "cell_type": "markdown",
   "metadata": {},
   "source": [
    "#### Define\n",
    "#Changing type of Year,day,month,year to Int and hence into corresponding textual name.\n",
    "Like \n",
    "0>Monday,1>Tuesday ...6>Sunday\n",
    "1>January,2>February ...12>December"
   ]
  },
  {
   "cell_type": "markdown",
   "metadata": {},
   "source": [
    "#### Code"
   ]
  },
  {
   "cell_type": "code",
   "execution_count": 55,
   "metadata": {},
   "outputs": [],
   "source": [
    "\n",
    "clean_df['hour']=clean_df['hour'].astype(int)\n",
    "clean_df['weekday']=clean_df['weekday'].astype(int)\n",
    "clean_df['date']=clean_df['date'].astype(int)\n",
    "clean_df['month']=clean_df['month'].astype(int)\n",
    "clean_df['year']=clean_df['year'].astype(int)\n",
    "clean_df['retweet_count']=clean_df['retweet_count'].astype(int)\n",
    "clean_df['favorite_count']=clean_df['favorite_count'].astype(int)\n",
    "\n",
    "int_day=[0,1,2,3,4,5,6]\n",
    "str_day=['Monday','Tuesday','Wednesday','Thursday','Friday','Saturday','Sunday']\n",
    "\n",
    "clean_df.weekday.replace(int_day, str_day, inplace=True)\n",
    "\n",
    "int_month=[1,2,3,4,5,6,7,8,9,10,11,12]\n",
    "str_month=['January','February','March','April','May','June','July','August','September','October','November','December']\n",
    "\n",
    "clean_df.month.replace(int_month, str_month, inplace=True)"
   ]
  },
  {
   "cell_type": "markdown",
   "metadata": {},
   "source": [
    "#### Test"
   ]
  },
  {
   "cell_type": "code",
   "execution_count": 56,
   "metadata": {},
   "outputs": [
    {
     "name": "stdout",
     "output_type": "stream",
     "text": [
      "                tweet_id                     breed  breed_prob  retweet_count  \\\n",
      "2065  890240255349198849                  Pembroke    0.511319           7438   \n",
      "2066  890609185150312448             Irish_terrier    0.487574           4277   \n",
      "2067  890729181411237888                Pomeranian    0.566142          18941   \n",
      "2068  890971913173991426               Appenzeller    0.341703           2076   \n",
      "2069  891087950875897856  Chesapeake_Bay_retriever    0.425595           3122   \n",
      "2070  891327558926688256                    basset    0.555712           9426   \n",
      "2071  891689557279858688        Labrador_retriever    0.168086           8677   \n",
      "2072  891815181378084864                 Chihuahua    0.716012           4165   \n",
      "2073  892177421306343426                 Chihuahua    0.323581           6285   \n",
      "2074  892420643555336193                    No Dog    0.000000           8546   \n",
      "\n",
      "      favorite_count              source      name  rating  hour    weekday  \\\n",
      "2065           31837  Twitter for iPhone    Cassie    14.0    15  Wednesday   \n",
      "2066           27697  Twitter for iPhone      Zoey    13.0    16   Thursday   \n",
      "2067           65279  Twitter for iPhone      None    13.0     0     Friday   \n",
      "2068           11809  Twitter for iPhone       Jax    13.0    16     Friday   \n",
      "2069           20146  Twitter for iPhone      None    13.0     0   Saturday   \n",
      "2070           40180  Twitter for iPhone  Franklin    12.0    16   Saturday   \n",
      "2071           42024  Twitter for iPhone     Darla    13.0    15     Sunday   \n",
      "2072           24932  Twitter for iPhone    Archie    12.0     0     Monday   \n",
      "2073           33124  Twitter for iPhone     Tilly    13.0     0    Tuesday   \n",
      "2074           38646  Twitter for iPhone   Phineas    13.0    16    Tuesday   \n",
      "\n",
      "      date   month  year dog_stage  \n",
      "2065    26    July  2017     doggo  \n",
      "2066    27    July  2017      None  \n",
      "2067    28    July  2017      None  \n",
      "2068    28    July  2017      None  \n",
      "2069    29    July  2017      None  \n",
      "2070    29    July  2017      None  \n",
      "2071    30    July  2017      None  \n",
      "2072    31    July  2017      None  \n",
      "2073     1  August  2017      None  \n",
      "2074     1  August  2017      None  \n",
      "<class 'pandas.core.frame.DataFrame'>\n",
      "Int64Index: 1993 entries, 0 to 2074\n",
      "Data columns (total 14 columns):\n",
      "tweet_id          1993 non-null object\n",
      "breed             1993 non-null category\n",
      "breed_prob        1993 non-null float64\n",
      "retweet_count     1993 non-null int32\n",
      "favorite_count    1993 non-null int32\n",
      "source            1993 non-null object\n",
      "name              1993 non-null object\n",
      "rating            1993 non-null float64\n",
      "hour              1993 non-null int32\n",
      "weekday           1993 non-null object\n",
      "date              1993 non-null int32\n",
      "month             1993 non-null object\n",
      "year              1993 non-null int32\n",
      "dog_stage         1993 non-null object\n",
      "dtypes: category(1), float64(2), int32(5), object(6)\n",
      "memory usage: 186.9+ KB\n",
      "None\n"
     ]
    }
   ],
   "source": [
    "print(clean_df.tail(10))\n",
    "print(clean_df.info())"
   ]
  },
  {
   "cell_type": "markdown",
   "metadata": {},
   "source": [
    "#### Define\n",
    "#Defining Datafram :only_dog_clean (Where Breed != 'No Dog')\n",
    "We are removing those records which confirms No Dog."
   ]
  },
  {
   "cell_type": "markdown",
   "metadata": {},
   "source": [
    "#### Code"
   ]
  },
  {
   "cell_type": "code",
   "execution_count": 57,
   "metadata": {},
   "outputs": [],
   "source": [
    "\n",
    "only_dog_clean=pd.DataFrame()\n",
    "only_dog_clean=clean_df.copy()\n",
    "only_dog_clean=only_dog_clean[only_dog_clean.breed!='No Dog']"
   ]
  },
  {
   "cell_type": "markdown",
   "metadata": {},
   "source": [
    "#### Test"
   ]
  },
  {
   "cell_type": "code",
   "execution_count": 58,
   "metadata": {},
   "outputs": [
    {
     "name": "stdout",
     "output_type": "stream",
     "text": [
      "<class 'pandas.core.frame.DataFrame'>\n",
      "Int64Index: 1685 entries, 0 to 2073\n",
      "Data columns (total 14 columns):\n",
      "tweet_id          1685 non-null object\n",
      "breed             1685 non-null category\n",
      "breed_prob        1685 non-null float64\n",
      "retweet_count     1685 non-null int32\n",
      "favorite_count    1685 non-null int32\n",
      "source            1685 non-null object\n",
      "name              1685 non-null object\n",
      "rating            1685 non-null float64\n",
      "hour              1685 non-null int32\n",
      "weekday           1685 non-null object\n",
      "date              1685 non-null int32\n",
      "month             1685 non-null object\n",
      "year              1685 non-null int32\n",
      "dog_stage         1685 non-null object\n",
      "dtypes: category(1), float64(2), int32(5), object(6)\n",
      "memory usage: 158.9+ KB\n",
      "None\n"
     ]
    }
   ],
   "source": [
    "print(only_dog_clean.info())"
   ]
  },
  {
   "cell_type": "markdown",
   "metadata": {},
   "source": [
    "#### Saving Clean Dataframe as \"dogdf_clean.csv\" file"
   ]
  },
  {
   "cell_type": "code",
   "execution_count": 59,
   "metadata": {},
   "outputs": [],
   "source": [
    "only_dog_clean.to_csv('dogdf_clean.csv',index=False)"
   ]
  },
  {
   "cell_type": "markdown",
   "metadata": {},
   "source": [
    "# Data Analysis and Visualization"
   ]
  },
  {
   "cell_type": "markdown",
   "metadata": {},
   "source": [
    "##### Most Retweeted Tweet !!"
   ]
  },
  {
   "cell_type": "code",
   "execution_count": 60,
   "metadata": {},
   "outputs": [
    {
     "data": {
      "text/html": [
       "<div>\n",
       "<style scoped>\n",
       "    .dataframe tbody tr th:only-of-type {\n",
       "        vertical-align: middle;\n",
       "    }\n",
       "\n",
       "    .dataframe tbody tr th {\n",
       "        vertical-align: top;\n",
       "    }\n",
       "\n",
       "    .dataframe thead th {\n",
       "        text-align: right;\n",
       "    }\n",
       "</style>\n",
       "<table border=\"1\" class=\"dataframe\">\n",
       "  <thead>\n",
       "    <tr style=\"text-align: right;\">\n",
       "      <th></th>\n",
       "      <th>tweet_id</th>\n",
       "      <th>breed</th>\n",
       "      <th>name</th>\n",
       "      <th>retweet_count</th>\n",
       "    </tr>\n",
       "  </thead>\n",
       "  <tbody>\n",
       "    <tr>\n",
       "      <th>1221</th>\n",
       "      <td>744234799360020481</td>\n",
       "      <td>Labrador_retriever</td>\n",
       "      <td>None</td>\n",
       "      <td>76969</td>\n",
       "    </tr>\n",
       "  </tbody>\n",
       "</table>\n",
       "</div>"
      ],
      "text/plain": [
       "                tweet_id               breed  name  retweet_count\n",
       "1221  744234799360020481  Labrador_retriever  None          76969"
      ]
     },
     "execution_count": 60,
     "metadata": {},
     "output_type": "execute_result"
    }
   ],
   "source": [
    "only_dog_clean.loc[only_dog_clean.retweet_count==only_dog_clean.retweet_count.max(),['tweet_id','breed','name','retweet_count']]\n"
   ]
  },
  {
   "cell_type": "markdown",
   "metadata": {},
   "source": [
    "A Labrador_retriever with an unknown name recieved 76986 Retweets,\n",
    "\n",
    "which makes Tweet_id:744234799360020481 most retweeted Tweet."
   ]
  },
  {
   "cell_type": "markdown",
   "metadata": {},
   "source": [
    "##### Most Favorite Tweet !!"
   ]
  },
  {
   "cell_type": "code",
   "execution_count": 61,
   "metadata": {},
   "outputs": [
    {
     "data": {
      "text/html": [
       "<div>\n",
       "<style scoped>\n",
       "    .dataframe tbody tr th:only-of-type {\n",
       "        vertical-align: middle;\n",
       "    }\n",
       "\n",
       "    .dataframe tbody tr th {\n",
       "        vertical-align: top;\n",
       "    }\n",
       "\n",
       "    .dataframe thead th {\n",
       "        text-align: right;\n",
       "    }\n",
       "</style>\n",
       "<table border=\"1\" class=\"dataframe\">\n",
       "  <thead>\n",
       "    <tr style=\"text-align: right;\">\n",
       "      <th></th>\n",
       "      <th>tweet_id</th>\n",
       "      <th>breed</th>\n",
       "      <th>name</th>\n",
       "      <th>favorite_count</th>\n",
       "    </tr>\n",
       "  </thead>\n",
       "  <tbody>\n",
       "    <tr>\n",
       "      <th>1744</th>\n",
       "      <td>822872901745569793</td>\n",
       "      <td>Lakeland_terrier</td>\n",
       "      <td>None</td>\n",
       "      <td>142761</td>\n",
       "    </tr>\n",
       "  </tbody>\n",
       "</table>\n",
       "</div>"
      ],
      "text/plain": [
       "                tweet_id             breed  name  favorite_count\n",
       "1744  822872901745569793  Lakeland_terrier  None          142761"
      ]
     },
     "execution_count": 61,
     "metadata": {},
     "output_type": "execute_result"
    }
   ],
   "source": [
    "only_dog_clean.loc[only_dog_clean.favorite_count==only_dog_clean.favorite_count.max(),['tweet_id','breed','name','favorite_count']]"
   ]
  },
  {
   "cell_type": "markdown",
   "metadata": {},
   "source": [
    "A Lakeland_terrier dog made Tweet_id:822872901745569793  most liked tweet,\n",
    "\n",
    "It recieved 142803 likes !"
   ]
  },
  {
   "cell_type": "markdown",
   "metadata": {},
   "source": [
    "##### Most Popular Breed !\n",
    "\n",
    "Most common Breed as per Original twitter posts :"
   ]
  },
  {
   "cell_type": "code",
   "execution_count": 62,
   "metadata": {},
   "outputs": [
    {
     "data": {
      "text/plain": [
       "golden_retriever      157\n",
       "Labrador_retriever    108\n",
       "Pembroke               95\n",
       "Chihuahua              91\n",
       "pug                    62\n",
       "Name: breed, dtype: int64"
      ]
     },
     "execution_count": 62,
     "metadata": {},
     "output_type": "execute_result"
    }
   ],
   "source": [
    "only_dog_clean.breed.value_counts()[:5,]"
   ]
  },
  {
   "cell_type": "markdown",
   "metadata": {},
   "source": [
    "##### Observation\n",
    "\n",
    "Golden Retrievers are the most popular choice among dog lovers.\n",
    "\n",
    "They are loyal, loving and intelligent breed, hence most popular.Next to Golden Retriever is Labrador Retreiver."
   ]
  },
  {
   "cell_type": "markdown",
   "metadata": {},
   "source": [
    "###### Which is the most common dog ratings ?\n",
    "\n",
    "Top 4 ratings by WeRateDogs as:"
   ]
  },
  {
   "cell_type": "code",
   "execution_count": 63,
   "metadata": {},
   "outputs": [
    {
     "data": {
      "text/plain": [
       "12.0    426\n",
       "11.0    363\n",
       "10.0    362\n",
       "13.0    229\n",
       "Name: rating, dtype: int64"
      ]
     },
     "execution_count": 63,
     "metadata": {},
     "output_type": "execute_result"
    }
   ],
   "source": [
    "only_dog_clean.rating.value_counts()[:4,]"
   ]
  },
  {
   "cell_type": "markdown",
   "metadata": {},
   "source": [
    " #### Observaton\n",
    " \n",
    " Most Dog have recieved 12 Ratings out of 10 (All raings have been converted with common denominator 10)"
   ]
  },
  {
   "cell_type": "markdown",
   "metadata": {},
   "source": [
    "###### Which was the Most popular Source of Tweeting !"
   ]
  },
  {
   "cell_type": "code",
   "execution_count": 64,
   "metadata": {},
   "outputs": [
    {
     "name": "stdout",
     "output_type": "stream",
     "text": [
      "Twitter for iPhone    98.160237\n",
      "Twitter Web Client     1.305638\n",
      "TweetDeck              0.534125\n",
      "Name: source, dtype: float64\n"
     ]
    }
   ],
   "source": [
    "import matplotlib.pyplot as plt\n",
    "label=['Iphone','WebAppliaction','TweetDeck']\n",
    "only_dog_clean.source.value_counts().plot(kind='pie')\n",
    "print(only_dog_clean.source.value_counts()/ len(only_dog_clean) * 100)"
   ]
  },
  {
   "cell_type": "markdown",
   "metadata": {},
   "source": [
    "#### Observaton\n",
    "Twitter Handle's operator uses Iphone for tweeting purpose most of the times compared to 'Twitter Web client' and 'TweetDeck' Application.\n",
    "\n",
    "Few observed Tweets with Source as Vine were not Original Tweets i.e. Replied Tweets, Which we not included for analysis purpose."
   ]
  },
  {
   "cell_type": "markdown",
   "metadata": {},
   "source": [
    "##### Most Popular Hour"
   ]
  },
  {
   "cell_type": "code",
   "execution_count": 65,
   "metadata": {},
   "outputs": [
    {
     "data": {
      "text/plain": [
       "1     236\n",
       "0     225\n",
       "2     171\n",
       "16    170\n",
       "17    144\n",
       "3     139\n",
       "23     95\n",
       "18     82\n",
       "15     77\n",
       "4      76\n",
       "19     68\n",
       "20     62\n",
       "21     59\n",
       "22     55\n",
       "5      18\n",
       "14      4\n",
       "6       3\n",
       "13      1\n",
       "Name: hour, dtype: int64"
      ]
     },
     "execution_count": 65,
     "metadata": {},
     "output_type": "execute_result"
    }
   ],
   "source": [
    "only_dog_clean.hour.value_counts()"
   ]
  },
  {
   "cell_type": "code",
   "execution_count": 66,
   "metadata": {},
   "outputs": [
    {
     "data": {
      "image/png": "[encoded data removed]",
      "text/plain": [
       "<matplotlib.figure.Figure at 0x71f401a6a0>"
      ]
     },
     "metadata": {},
     "output_type": "display_data"
    }
   ],
   "source": [
    "fig, ax = plt.subplots()\n",
    "only_dog_clean['hour'].value_counts(sort=False).plot(kind='bar')\n",
    "ax.set_title('Number of tweets per time of the day', fontweight=\"bold\")\n",
    "ax.set_ylabel('count', fontsize=12)\n",
    "ax.set_xlabel('Time of the day', fontsize=12)\n",
    "plt.xticks(rotation='horizontal') \n",
    "ax.spines['right'].set_visible(False)\n",
    "ax.spines['top'].set_visible(False)"
   ]
  },
  {
   "cell_type": "markdown",
   "metadata": {},
   "source": [
    "#### Observation:\n",
    "\n",
    "There were no tweets fron 7:00 to 13:00 and only few contable tweets from 5:00 to 7:00 (May be Sleeping Time)\n",
    "\n",
    "Twitter Account consistently made higher number of tweets during midnight ie: from 23:00 to 03:00.\n",
    "Highest number of tweets on average were 236 at 1:00 to 2:00 Night."
   ]
  },
  {
   "cell_type": "markdown",
   "metadata": {},
   "source": [
    "##### Most Active Month"
   ]
  },
  {
   "cell_type": "code",
   "execution_count": 67,
   "metadata": {},
   "outputs": [
    {
     "data": {
      "text/plain": [
       "December     340\n",
       "November     271\n",
       "January      200\n",
       "February     156\n",
       "March        151\n",
       "July         124\n",
       "June         110\n",
       "May           84\n",
       "April         84\n",
       "October       60\n",
       "September     57\n",
       "August        48\n",
       "Name: month, dtype: int64"
      ]
     },
     "execution_count": 67,
     "metadata": {},
     "output_type": "execute_result"
    }
   ],
   "source": [
    "only_dog_clean.month.value_counts()"
   ]
  },
  {
   "cell_type": "code",
   "execution_count": 68,
   "metadata": {},
   "outputs": [
    {
     "data": {
      "text/plain": [
       "(array([ 0,  1,  2,  3,  4,  5,  6,  7,  8,  9, 10, 11]),\n",
       " <a list of 12 Text xticklabel objects>)"
      ]
     },
     "execution_count": 68,
     "metadata": {},
     "output_type": "execute_result"
    },
    {
     "data": {
      "image/png": "[encoded data removed]",
      "text/plain": [
       "<matplotlib.figure.Figure at 0x71f4022518>"
      ]
     },
     "metadata": {},
     "output_type": "display_data"
    }
   ],
   "source": [
    "#Bar Chart\n",
    "\n",
    "fig, ax = plt.subplots()\n",
    "only_dog_clean['month'].value_counts().plot(kind='bar')\n",
    "\n",
    "ax.set_title('Number of tweets per time of the day', fontweight=\"bold\")\n",
    "\n",
    "ax.set_ylabel('count', fontsize=12)\n",
    "ax.set_xlabel('Time of the day', fontsize=12)\n",
    "\n",
    "plt.xticks(rotation='vertical') "
   ]
  },
  {
   "cell_type": "markdown",
   "metadata": {},
   "source": [
    "#### Observation\n",
    "\n",
    "This Twitter account was more active in Winters than Summer. \n",
    "\n",
    "340 Tweets were made in December alone which is more than 10 tweets per day on average compared to 50 tweets in August on an average! "
   ]
  },
  {
   "cell_type": "markdown",
   "metadata": {},
   "source": [
    "##### Most Active Day of Week"
   ]
  },
  {
   "cell_type": "code",
   "execution_count": 69,
   "metadata": {},
   "outputs": [
    {
     "data": {
      "text/plain": [
       "Monday       280\n",
       "Thursday     247\n",
       "Tuesday      244\n",
       "Friday       242\n",
       "Wednesday    241\n",
       "Sunday       222\n",
       "Saturday     209\n",
       "Name: weekday, dtype: int64"
      ]
     },
     "execution_count": 69,
     "metadata": {},
     "output_type": "execute_result"
    }
   ],
   "source": [
    "only_dog_clean.weekday.value_counts()"
   ]
  },
  {
   "cell_type": "code",
   "execution_count": 125,
   "metadata": {},
   "outputs": [
    {
     "data": {
      "text/plain": [
       "<matplotlib.axes._subplots.AxesSubplot at 0x7f963d79b630>"
      ]
     },
     "execution_count": 125,
     "metadata": {},
     "output_type": "execute_result"
    },
    {
     "data": {
      "image/png": "[encoded data removed]",
      "text/plain": [
       "<matplotlib.figure.Figure at 0x7f963d47bda0>"
      ]
     },
     "metadata": {},
     "output_type": "display_data"
    }
   ],
   "source": [
    "#Pie Chart\n",
    "only_dog_clean.weekday.value_counts().plot(kind='pie')"
   ]
  },
  {
   "cell_type": "code",
   "execution_count": 70,
   "metadata": {},
   "outputs": [
    {
     "data": {
      "image/png": "[encoded data removed]",
      "text/plain": [
       "<matplotlib.figure.Figure at 0x71f408ef60>"
      ]
     },
     "metadata": {},
     "output_type": "display_data"
    }
   ],
   "source": [
    "#Bar Chart\n",
    "fig, ax = plt.subplots()\n",
    "only_dog_clean['weekday'].value_counts(sort=True).plot(kind='bar')\n",
    "ax.set_title('Number of tweets per time of the day', fontweight=\"bold\")\n",
    "ax.set_ylabel('count', fontsize=12)\n",
    "ax.set_xlabel('Time of the day', fontsize=12)\n",
    "plt.xticks(rotation='horizontal') \n",
    "ax.spines['right'].set_visible(False)\n",
    "ax.spines['top'].set_visible(False)"
   ]
  },
  {
   "cell_type": "markdown",
   "metadata": {},
   "source": [
    "#### Observation:\n",
    "\n",
    "Most of the tweets were on Weekdays rather than Weekends. \n",
    "\n",
    "There were 250 Tweets per day on average on Weekdays, wheres as 215 Tweets per day on Weekends. More Busy on Weekends !"
   ]
  },
  {
   "cell_type": "markdown",
   "metadata": {},
   "source": [
    "##### Most Active Day"
   ]
  },
  {
   "cell_type": "code",
   "execution_count": 71,
   "metadata": {},
   "outputs": [
    {
     "data": {
      "text/plain": [
       "25    68\n",
       "23    64\n",
       "17    64\n",
       "28    64\n",
       "8     61\n",
       "29    60\n",
       "21    59\n",
       "20    58\n",
       "16    58\n",
       "24    57\n",
       "18    57\n",
       "3     56\n",
       "4     56\n",
       "5     56\n",
       "2     55\n",
       "6     55\n",
       "13    54\n",
       "1     54\n",
       "7     53\n",
       "22    53\n",
       "11    52\n",
       "19    52\n",
       "27    52\n",
       "9     50\n",
       "15    50\n",
       "14    49\n",
       "10    48\n",
       "12    47\n",
       "26    47\n",
       "30    43\n",
       "31    33\n",
       "Name: date, dtype: int64"
      ]
     },
     "execution_count": 71,
     "metadata": {},
     "output_type": "execute_result"
    }
   ],
   "source": [
    "only_dog_clean.date.value_counts()"
   ]
  },
  {
   "cell_type": "code",
   "execution_count": 72,
   "metadata": {},
   "outputs": [
    {
     "data": {
      "image/png": "[encoded data removed]",
      "text/plain": [
       "<matplotlib.figure.Figure at 0x71f43379b0>"
      ]
     },
     "metadata": {},
     "output_type": "display_data"
    }
   ],
   "source": [
    "fig, ax = plt.subplots()\n",
    "only_dog_clean['date'].value_counts(sort=False).plot(kind='bar')\n",
    "ax.set_title('Number of tweets per time of the day', fontweight=\"bold\")\n",
    "ax.set_ylabel('count', fontsize=12)\n",
    "ax.set_xlabel('Time of the day', fontsize=12)\n",
    "plt.xticks(rotation='vertical') \n",
    "ax.spines['right'].set_visible(False)\n",
    "ax.spines['top'].set_visible(False)"
   ]
  },
  {
   "cell_type": "markdown",
   "metadata": {},
   "source": [
    "\n",
    "#### Observation :\n",
    "\n",
    "There no common trend observed from the chart, Tweets were even distributed throught the days.\n",
    "\n",
    "On an Average there are 68-33 Tweets per day."
   ]
  },
  {
   "cell_type": "markdown",
   "metadata": {},
   "source": [
    "##### Most Popular Dog Stage"
   ]
  },
  {
   "cell_type": "code",
   "execution_count": 73,
   "metadata": {},
   "outputs": [
    {
     "data": {
      "text/plain": [
       "None             84.569733\n",
       "pupper            9.970326\n",
       "doggo             3.204748\n",
       "puppo             1.246291\n",
       "doggo,pupper      0.474777\n",
       "floofer           0.415430\n",
       "doggo,floofer     0.059347\n",
       "doggo,puppo       0.059347\n",
       "Name: dog_stage, dtype: float64"
      ]
     },
     "execution_count": 73,
     "metadata": {},
     "output_type": "execute_result"
    }
   ],
   "source": [
    "only_dog_clean.dog_stage.value_counts()/len(only_dog_clean)*100"
   ]
  },
  {
   "cell_type": "markdown",
   "metadata": {},
   "source": [
    "#### Observation:\n",
    "\n",
    "Although we have 85 percent missing Data for Dog current Stages,\n",
    "\n",
    "As per Available data 10 percent of Dogs are Pupper and seems popular choice.Next we have Doggo and Puppo in the List.We have few floofer in the list too."
   ]
  },
  {
   "cell_type": "markdown",
   "metadata": {},
   "source": [
    "##### Most Popular Dog Name"
   ]
  },
  {
   "cell_type": "code",
   "execution_count": 74,
   "metadata": {},
   "outputs": [
    {
     "data": {
      "text/plain": [
       "Charlie    10\n",
       "Cooper     10\n",
       "Lucy       10\n",
       "Oliver      9\n",
       "Tucker      9\n",
       "Name: name, dtype: int64"
      ]
     },
     "execution_count": 74,
     "metadata": {},
     "output_type": "execute_result"
    }
   ],
   "source": [
    "only_dog_clean.name.value_counts()[1:6,]"
   ]
  },
  {
   "cell_type": "markdown",
   "metadata": {},
   "source": [
    "\n",
    "#### Observation:\n",
    "\n",
    "Among available data and Excuding all those invalid Names, Cooper,Lucy,Charlie are among most popular choices for Dog names.Next most popular dog's names are Oliver , Tucker.\n",
    "\n",
    "If you want your dog's name to be different from others Please dont name him Cooper !"
   ]
  }
 ],
 "metadata": {
  "celltoolbar": "Raw Cell Format",
  "kernelspec": {
   "display_name": "Python 3",
   "language": "python",
   "name": "python3"
  },
  "language_info": {
   "codemirror_mode": {
    "name": "ipython",
    "version": 3
   },
   "file_extension": ".py",
   "mimetype": "text/x-python",
   "name": "python",
   "nbconvert_exporter": "python",
   "pygments_lexer": "ipython3",
   "version": "3.6.4"
  }
 },
 "nbformat": 4,
 "nbformat_minor": 2
}
